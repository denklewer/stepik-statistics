{
 "cells": [
  {
   "cell_type": "code",
   "execution_count": 2,
   "metadata": {},
   "outputs": [],
   "source": [
    "from scipy import stats\n",
    "import numpy as np\n",
    "import math"
   ]
  },
  {
   "cell_type": "code",
   "execution_count": 3,
   "metadata": {},
   "outputs": [],
   "source": [
    "def find_optimal_n(alpha, beta, m0, m1, std):\n",
    "    \"\"\"\n",
    "    :param alpha: desired type 1 error (FP)\n",
    "    :param beta: desired type 2 error (FN)\n",
    "    :param m0: mean for zero-hypothesis\n",
    "    :param m1: mean for first-hypothesis\n",
    "    :param std: std\n",
    "    :return: minimal optimal n\n",
    "    \"\"\"\n",
    "    u_a = stats.norm.ppf(1-alpha)\n",
    "    u_b = stats.norm.ppf(beta)\n",
    "    n = std**2*(u_a-u_b)**2/(m1-m0)**2\n",
    "    return math.ceil(n)\n",
    "\n",
    "    "
   ]
  },
  {
   "cell_type": "code",
   "execution_count": 4,
   "metadata": {},
   "outputs": [
    {
     "data": {
      "text/plain": [
       "138"
      ]
     },
     "execution_count": 4,
     "metadata": {},
     "output_type": "execute_result"
    }
   ],
   "source": [
    "find_optimal_n(0.05,0.1,5,5.5,2)"
   ]
  },
  {
   "cell_type": "markdown",
   "metadata": {},
   "source": [
    "## p-value"
   ]
  },
  {
   "cell_type": "code",
   "execution_count": 5,
   "metadata": {},
   "outputs": [
    {
     "name": "stdout",
     "output_type": "stream",
     "text": [
      "22.714285714285715\n",
      "4.346938775510203\n",
      "22.0\n",
      "21\n",
      "24\n",
      "0.8588990018515539\n"
     ]
    }
   ],
   "source": [
    "from descriptive_statistics import *"
   ]
  },
  {
   "cell_type": "code",
   "execution_count": 6,
   "metadata": {},
   "outputs": [],
   "source": [
    "l = [986, 1005, 991, 994, 983, 1002, 996, 998,1002, 983]"
   ]
  },
  {
   "cell_type": "code",
   "execution_count": 11,
   "metadata": {},
   "outputs": [
    {
     "data": {
      "text/plain": [
       "(58.4, 994.0)"
      ]
     },
     "execution_count": 11,
     "metadata": {},
     "output_type": "execute_result"
    }
   ],
   "source": [
    "avg = get_avg(l)\n",
    "m = 1000\n",
    "alpha = 0.05\n",
    "n = len(l)\n",
    "var = get_variance(l)\n",
    "var,avg"
   ]
  },
  {
   "cell_type": "code",
   "execution_count": 13,
   "metadata": {},
   "outputs": [],
   "source": [
    "s2 = n/(n-1)*var"
   ]
  },
  {
   "cell_type": "code",
   "execution_count": 14,
   "metadata": {},
   "outputs": [],
   "source": [
    "z = (avg - m)/(math.sqrt(s2)/math.sqrt(n))"
   ]
  },
  {
   "cell_type": "code",
   "execution_count": 15,
   "metadata": {},
   "outputs": [
    {
     "data": {
      "text/plain": [
       "-2.3554076516559617"
      ]
     },
     "execution_count": 15,
     "metadata": {},
     "output_type": "execute_result"
    }
   ],
   "source": [
    "z"
   ]
  },
  {
   "cell_type": "code",
   "execution_count": 21,
   "metadata": {},
   "outputs": [],
   "source": [
    "p_value_1 = stats.t.cdf(z, n-1)"
   ]
  },
  {
   "cell_type": "code",
   "execution_count": 22,
   "metadata": {},
   "outputs": [],
   "source": [
    "p_value_2 =  1 - p_value_1"
   ]
  },
  {
   "cell_type": "code",
   "execution_count": 24,
   "metadata": {},
   "outputs": [],
   "source": [
    "p_value_total = 2*min(p_value_1, p_value_2)"
   ]
  },
  {
   "cell_type": "code",
   "execution_count": 25,
   "metadata": {},
   "outputs": [
    {
     "data": {
      "text/plain": [
       "0.042923125026275044"
      ]
     },
     "execution_count": 25,
     "metadata": {},
     "output_type": "execute_result"
    }
   ],
   "source": [
    "p_value_total"
   ]
  },
  {
   "cell_type": "markdown",
   "metadata": {},
   "source": [
    "#Roma's"
   ]
  },
  {
   "cell_type": "code",
   "execution_count": 1,
   "metadata": {},
   "outputs": [
    {
     "name": "stdout",
     "output_type": "stream",
     "text": [
      "994.0 64.88888888888889\n",
      "-2.3554076516559617\n",
      "0.042923125026275044 H1\n"
     ]
    }
   ],
   "source": [
    "\n",
    "#!/usr/bin/env python\n",
    "# coding: utf-8\n",
    "\n",
    "# # Проверка гипотез\n",
    "\n",
    "# ## Проверка гипотезы о среднем значении при неизвестной дисперсии\n",
    "# Десять разных термометров сопротивления откалибровали по стандартному термометру. При показании стандартного термометра 1000мВ, испытуемые термометры показали:\n",
    "# \n",
    "# 986, 1005, 991, 994, 983, 1002, 996, 998,1002, 983.\n",
    "# \n",
    "# Можно ли считать эти отклонения допустимыми или на характеристики термометров повлиял некоторый фактор (при изготовлении или транспортировке)? Показания термометров считать распределенными нормально. Уровень значимости принять 0.05\n",
    "\n",
    "# Для начала импортируем все необходимые библиотеки.\n",
    "# \n",
    "\n",
    "# In[1]:\n",
    "\n",
    "\n",
    "import numpy as np\n",
    "from scipy.stats.distributions import t\n",
    "\n",
    "\n",
    "# Введем данные и зададим alpha - уровень значимости\n",
    "\n",
    "# In[2]:\n",
    "\n",
    "\n",
    "a = [986, 1005, 991, 994, 983, 1002, 996, 998, 1002, 983]\n",
    "a = np.array(a)\n",
    "\n",
    "n = len(a)\n",
    "alpha = 0.05\n",
    "\n",
    "\n",
    "# В качестве нулевой гипотезы примем гипотезу \"Среднее значение при калибровке\n",
    "# равно 1000\", альтернативная - \"не равно 1000\".\n",
    "# \n",
    "# Для проверки данных гипотез посчитаем среднее значение и несмещенную оценку дисперсии.\n",
    "\n",
    "# In[3]:\n",
    "\n",
    "\n",
    "m = a.mean()\n",
    "d = sum((a - m)**2) / n\n",
    "d = d * n / (n-1)\n",
    "\n",
    "print(m, d)\n",
    "\n",
    "\n",
    "# В качестве статистики возьмем выборочное среднее. Посчитаем его значение\n",
    "# при необходимом среднем == 1000 и заданной дисперсии.\n",
    "\n",
    "# In[5]:\n",
    "\n",
    "\n",
    "Z = (m - 1000) / (np.sqrt(d) / np.sqrt(n))\n",
    "print(Z)\n",
    "\n",
    "\n",
    "# Т.к. альтернативная гипотеза звучит как \"не равно 1000\",\n",
    "# необходимо проверять две области (alpha/2 U 1-alpha/2). \n",
    "# Будем считать вероятность, что значение статистики приняло более экстремальное значение,\n",
    "# чем при alpha и 1 - alpha (слева и справа).\n",
    "# В нашем случае p-value будет равно удвоенному минимуму из обоих этих значений.  \n",
    "# Т.к. дисперсия и среднее нам были неизвестны,\n",
    "# использовать надо распределение Стьюдента (напоминаю, что оно стремится к нормальному при увеличении степени свободы).\n",
    "\n",
    "# In[6]:\n",
    "\n",
    "\n",
    "p = 2 * min(t.cdf(Z, df=n-1), 1 - t.cdf(Z, df=n-1))\n",
    "\n",
    "print(p, f\"H{int(p < alpha)}\") # 0.43, H1\n",
    "\n",
    "\n",
    "# p-value меньше, чем заданный уровень значимости,\n",
    "# следовательно нулевая гипотеза отвергается и на\n",
    "# термомеры что-то повлияло в процессе транспортировки.\n",
    "\n"
   ]
  },
  {
   "cell_type": "code",
   "execution_count": null,
   "metadata": {},
   "outputs": [],
   "source": []
  }
 ],
 "metadata": {
  "kernelspec": {
   "display_name": "Python 3",
   "language": "python",
   "name": "python3"
  },
  "language_info": {
   "codemirror_mode": {
    "name": "ipython",
    "version": 3
   },
   "file_extension": ".py",
   "mimetype": "text/x-python",
   "name": "python",
   "nbconvert_exporter": "python",
   "pygments_lexer": "ipython3",
   "version": "3.6.8"
  }
 },
 "nbformat": 4,
 "nbformat_minor": 2
}
