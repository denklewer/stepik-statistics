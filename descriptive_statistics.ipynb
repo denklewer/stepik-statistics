{
 "cells": [
  {
   "cell_type": "code",
   "execution_count": 1,
   "metadata": {},
   "outputs": [],
   "source": [
    "from descriptive_statistics import *"
   ]
  },
  {
   "cell_type": "markdown",
   "metadata": {},
   "source": [
    "## Order statistics"
   ]
  },
  {
   "cell_type": "code",
   "execution_count": 2,
   "metadata": {},
   "outputs": [],
   "source": [
    "arr = [5.9, 3.64, 1.31, 4.77, 4.16, 0.35, 3.48, 6.39]"
   ]
  },
  {
   "cell_type": "code",
   "execution_count": 3,
   "metadata": {},
   "outputs": [
    {
     "name": "stdout",
     "output_type": "stream",
     "text": [
      "0.35, 3.48, 5.9\n"
     ]
    }
   ],
   "source": [
    "\n",
    "print(get_order_statistic(arr,1), get_order_statistic(arr,3), get_order_statistic(arr,7), sep=\", \")"
   ]
  },
  {
   "cell_type": "markdown",
   "metadata": {},
   "source": [
    "## Histogram"
   ]
  },
  {
   "cell_type": "code",
   "execution_count": 4,
   "metadata": {},
   "outputs": [
    {
     "name": "stdout",
     "output_type": "stream",
     "text": [
      "0.000, 0.125, 0.200, 0.200, 0.250, 0.125, 0.075, 0.025\n"
     ]
    }
   ],
   "source": [
    "formattedList = [\"%.3f\" % member for member in get_histogram([18.34, 16.13, 18.58, 16.4, 17.91, 16.65, 18.53, 18.34, 17.76, 17.85, 16.47, 15.96, 17.21, 17.17, 19.8, 18.85, 18.15, 17.01, 18.26, 19.67, 18.31, 17.99, 20.77, 18.81, 17.62, 19.14, 16.59, 16.19, 16.78, 18.7, 17.07, 18.33, 17.41, 17.35, 19.8, 17.37, 17.08, 18.08, 19.41, 19.27\n",
    "])]\n",
    "\n",
    "print(', '.join(formattedList))\n"
   ]
  },
  {
   "cell_type": "code",
   "execution_count": null,
   "metadata": {},
   "outputs": [],
   "source": []
  }
 ],
 "metadata": {
  "kernelspec": {
   "display_name": "Python 3",
   "language": "python",
   "name": "python3"
  },
  "language_info": {
   "codemirror_mode": {
    "name": "ipython",
    "version": 3
   },
   "file_extension": ".py",
   "mimetype": "text/x-python",
   "name": "python",
   "nbconvert_exporter": "python",
   "pygments_lexer": "ipython3",
   "version": "3.7.3"
  }
 },
 "nbformat": 4,
 "nbformat_minor": 2
}
