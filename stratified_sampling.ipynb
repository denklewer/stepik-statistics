{
 "cells": [
  {
   "cell_type": "code",
   "execution_count": 1,
   "metadata": {},
   "outputs": [
    {
     "name": "stdout",
     "output_type": "stream",
     "text": [
      "22.714285714285715\n",
      "4.346938775510203\n",
      "22.0\n",
      "21\n",
      "24\n",
      "0.8588990018515539\n"
     ]
    }
   ],
   "source": [
    "from stratified_sampling import *\n",
    "from descriptive_statistics import *"
   ]
  },
  {
   "cell_type": "markdown",
   "metadata": {},
   "source": [
    "# Expected value"
   ]
  },
  {
   "cell_type": "code",
   "execution_count": 2,
   "metadata": {},
   "outputs": [
    {
     "data": {
      "text/plain": [
       "2.5999999999999996"
      ]
     },
     "execution_count": 2,
     "metadata": {},
     "output_type": "execute_result"
    }
   ],
   "source": [
    "stratified_avg([0.3, 0.6, 0.1], [3,2,5])"
   ]
  },
  {
   "cell_type": "markdown",
   "metadata": {},
   "source": [
    "# Variance"
   ]
  },
  {
   "cell_type": "code",
   "execution_count": 3,
   "metadata": {},
   "outputs": [
    {
     "data": {
      "text/plain": [
       "3.5409999999999995"
      ]
     },
     "execution_count": 3,
     "metadata": {},
     "output_type": "execute_result"
    }
   ],
   "source": [
    "stratified_variance([0.3, 0.6, 0.1], [3,2,5],[1,4,0.01])"
   ]
  },
  {
   "cell_type": "markdown",
   "metadata": {},
   "source": [
    "## Population mean for subpopulation k\n",
    "\n",
    "$$\\bar{X}_k = \\frac{1}{n_k} \\sum_{i=1}^{n_k} X_{ik}$$\n",
    "\n",
    "## Population variance for subpopulation k\n",
    "\n",
    "$$D^*_k = \\frac{1}{n_k} \\sum_{i=1}^{n_k} (X_{ik} - \\bar{X}_k)^2$$"
   ]
  },
  {
   "cell_type": "markdown",
   "metadata": {},
   "source": [
    "## Expected value estimation for stratified population\n",
    "$$\\mu = \\sum_{k=1}^{L}W_k\\mu_k  \\Rightarrow \\bar{X}_s = \\sum_{k=1}^{L}W_k \\bar{X}_s$$"
   ]
  },
  {
   "cell_type": "markdown",
   "metadata": {},
   "source": [
    "## Expected value of such population estimation\n",
    "\n",
    "$$E\\bar{X}_s = \\sum_{k=1}^{L}W_k E\\bar{X}_s = \\sum_{k=1}^{L}W_k \\mu_k = \\mu$$"
   ]
  },
  {
   "cell_type": "markdown",
   "metadata": {},
   "source": [
    "## Variance of such population estimation\n",
    "\n",
    "$$D(\\bar{X}_s) = \\sum_{k=1}^{L}W_k^2 D(\\bar{X}_s) = \\sum_{k=1}^{L}W_k^2 \\frac{\\sigma^2_k}{n_k} $$"
   ]
  },
  {
   "cell_type": "markdown",
   "metadata": {},
   "source": [
    "## Estimation for Statistical population\n",
    "\n",
    "$$D_\\zeta =  \\sum_{k=1}^{L}W_k \\sigma^2_k + \\sum_{k=1}^{L}W_k(\\mu - \\mu_k)^2$$\n",
    "\n",
    "let's take population analog for point estimation\n",
    "\n",
    "$$D_s^* =  \\sum_{k=1}^{L}W_k D^*_k + \\sum_{k=1}^{L}W_k \\left( \\sum_{k=1}^{L}W_i\\bar{X}_i - \\bar{X}_k \\right)^2$$"
   ]
  },
  {
   "cell_type": "markdown",
   "metadata": {},
   "source": [
    "## Expected value and variance of such estimation:\n",
    "\n",
    "$$E(D_s^*) =  \\sum_{k=1}^{L}W_k ED^*_k + \\sum_{k=1}^{L}W_k E  \\left( \\sum_{k=1}^{L}W_i\\bar{X}_i - \\bar{X}_k \\right)^2$$\n",
    "\n",
    "$$D(D_s^*) =  \\sum_{k=1}^{L}W_k^2 D(D^*_k) + D \\left( \\sum_{k=1}^{L}W_k \\left( \\sum_{k=1}^{L}W_i\\bar{X}_i - \\bar{X}_k \\right)^2 \\right)$$"
   ]
  },
  {
   "cell_type": "code",
   "execution_count": 4,
   "metadata": {},
   "outputs": [],
   "source": [
    "strat1 = [282, 226, 188, 327, 344, 304, 414, 224, 335, 270]\n",
    "strat2 = [417,  851,  742, 1217, 1160,  993,  864,  852, 1286,  988]\n",
    "w1 = 0.4\n",
    "w2 = 0.6\n",
    "\n",
    "m1 = get_avg(strat1)\n",
    "m2 = get_avg(strat2)\n",
    "avg = w1*m1 + w2*m2"
   ]
  },
  {
   "cell_type": "code",
   "execution_count": 5,
   "metadata": {},
   "outputs": [],
   "source": [
    "s1 = get_variance(strat1)\n",
    "s2 = get_variance(strat2)\n",
    "D = (w1 * s1 + w2*s2) + (w1* (avg-m1)**2 + w2* (avg-m2)**2)"
   ]
  },
  {
   "cell_type": "code",
   "execution_count": 6,
   "metadata": {},
   "outputs": [
    {
     "name": "stdout",
     "output_type": "stream",
     "text": [
      "678.76 ,  136721.6624\n"
     ]
    }
   ],
   "source": [
    "print (avg, \", \", D)"
   ]
  },
  {
   "cell_type": "code",
   "execution_count": 7,
   "metadata": {},
   "outputs": [
    {
     "data": {
      "text/plain": [
       "58404.2"
      ]
     },
     "execution_count": 7,
     "metadata": {},
     "output_type": "execute_result"
    }
   ],
   "source": [
    "s2"
   ]
  },
  {
   "cell_type": "markdown",
   "metadata": {},
   "source": [
    "## Stratified sampling\n",
    "### Optimal sampling\n",
    "\n",
    " $ \\tilde{n}_k = n \\frac{W_k \\sigma_k}{\\sum_{k=1}^{L}W_k \\sigma_k} ,  k=\\overline{1,L}, n = n+1 ... + n_L$    minimizes variance\n",
    "### Propotional sampling\n",
    "\n",
    " $ n_k = n W_k ,  k=\\overline{1,L}, n = n+1 ... + n_L$    \n"
   ]
  },
  {
   "cell_type": "code",
   "execution_count": 8,
   "metadata": {},
   "outputs": [
    {
     "data": {
      "text/plain": [
       "[21, 79]"
      ]
     },
     "execution_count": 8,
     "metadata": {},
     "output_type": "execute_result"
    }
   ],
   "source": [
    "get_sample_counts(100,[0.25, 0.75], [4, 6.25])"
   ]
  },
  {
   "cell_type": "code",
   "execution_count": null,
   "metadata": {},
   "outputs": [],
   "source": []
  }
 ],
 "metadata": {
  "kernelspec": {
   "display_name": "Python 3",
   "language": "python",
   "name": "python3"
  },
  "language_info": {
   "codemirror_mode": {
    "name": "ipython",
    "version": 3
   },
   "file_extension": ".py",
   "mimetype": "text/x-python",
   "name": "python",
   "nbconvert_exporter": "python",
   "pygments_lexer": "ipython3",
   "version": "3.7.3"
  }
 },
 "nbformat": 4,
 "nbformat_minor": 2
}
